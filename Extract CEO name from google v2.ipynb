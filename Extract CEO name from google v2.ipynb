{
 "cells": [
  {
   "cell_type": "code",
   "execution_count": 6,
   "id": "b10da66b",
   "metadata": {},
   "outputs": [
    {
     "ename": "SyntaxError",
     "evalue": "invalid syntax (610720369.py, line 57)",
     "output_type": "error",
     "traceback": [
      "\u001b[1;36m  File \u001b[1;32m\"C:\\Users\\ADMIN\\AppData\\Local\\Temp\\ipykernel_31576\\610720369.py\"\u001b[1;36m, line \u001b[1;32m57\u001b[0m\n\u001b[1;33m    except TimeoutException:\u001b[0m\n\u001b[1;37m    ^\u001b[0m\n\u001b[1;31mSyntaxError\u001b[0m\u001b[1;31m:\u001b[0m invalid syntax\n"
     ]
    }
   ],
   "source": [
    "import csv\n",
    "import selenium\n",
    "from selenium import webdriver\n",
    "from selenium.webdriver.common.keys import Keys\n",
    "\n",
    "\n",
    "from selenium.webdriver.common.by import By\n",
    "from selenium.webdriver.support.ui import WebDriverWait\n",
    "from selenium.webdriver.support import expected_conditions as EC\n",
    "from selenium.common.exceptions import TimeoutException\n",
    "\n",
    "import time\n",
    "\n",
    "\n",
    "#Set the path to the driver\n",
    "PATH = \"C:\\Program Files\\chromedriver\"\n",
    "\n",
    "#Initialize the webdriver\n",
    "driver = webdriver.Chrome(PATH)\n",
    "\n",
    "#Open google\n",
    "driver.get(\"https://www.google.com/\")\n",
    "\n",
    "#Click the accept all cookies button\n",
    "accept_all = driver.find_element_by_xpath(\"//div[@class='QS5gu sy4vM']\")\n",
    "accept_all.click()\n",
    "\n",
    "# Define a list of xpaths to try\n",
    "xpaths = [\"//a[@class='FLP8od']\", \"//a[@class='other-xpath']\", \"//a[@class='another-xpath']\"]\n",
    "\n",
    "\n",
    "# Open the input CSV file\n",
    "with open( r'C:\\Users\\ADMIN\\OneDrive - Cardiff Metropolitan University\\Second semester\\Python\\company_names.csv', 'r') as input_file:\n",
    "  reader = csv.reader(input_file)\n",
    "  \n",
    "  # Open the output CSV file\n",
    "  with open('output.csv', 'w', newline='') as output_file:\n",
    "    writer = csv.writer(output_file)\n",
    "    \n",
    "    # Iterate over the rows in the input CSV file\n",
    "    for row in reader:\n",
    "      company = row[0].split(\"PLC\")[0]\n",
    "      \n",
    "      # Clear the search element and search Google for the company\n",
    "      search = driver.find_element_by_xpath(\"//input[@class='gLFyf']\")\n",
    "      search.clear()\n",
    "      search.send_keys(\"CEO of \" + company)\n",
    "      search.send_keys(Keys.RETURN)\n",
    "    \n",
    "    \n",
    "    # Wait for the search results to load\n",
    "    xpaths = [\"//a[@class='FLP8od']\", \"//a[@class='other-xpath']\", \"//a[@class='another-xpath']\"]\n",
    "    ceo_name = \"Not found\"\n",
    "    for xpath in xpaths:\n",
    "        try:\n",
    "            WebDriverWait(driver, 10).until(EC.presence_of_element_located((By.XPATH, xpath)))\n",
    "            except TimeoutException:\n",
    "                continue\n",
    "                 element = driver.find_element_by_xpath(xpath)\n",
    "        ceo_name = element.text\n",
    "        if ceo_name != \"Not found\":\n",
    "            break\n",
    "            \n",
    "    # Write the company and CEO name to the output CSV file\n",
    "    writer.writerow([company, ceo_name])\n",
    "      \n",
    "      # Mimic human-like behavior by adding a delay between searches\n",
    "      time.sleep(3)\n",
    "\n",
    "#Close the driver\n",
    "driver.quit()\n",
    "\n"
   ]
  },
  {
   "cell_type": "code",
   "execution_count": null,
   "id": "a21e14f4",
   "metadata": {},
   "outputs": [],
   "source": []
  }
 ],
 "metadata": {
  "kernelspec": {
   "display_name": "Python 3 (ipykernel)",
   "language": "python",
   "name": "python3"
  },
  "language_info": {
   "codemirror_mode": {
    "name": "ipython",
    "version": 3
   },
   "file_extension": ".py",
   "mimetype": "text/x-python",
   "name": "python",
   "nbconvert_exporter": "python",
   "pygments_lexer": "ipython3",
   "version": "3.9.7"
  }
 },
 "nbformat": 4,
 "nbformat_minor": 5
}
